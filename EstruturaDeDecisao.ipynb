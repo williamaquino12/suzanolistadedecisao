{
  "nbformat": 4,
  "nbformat_minor": 0,
  "metadata": {
    "colab": {
      "name": "EstruturaDeDecisao.ipynb",
      "provenance": [],
      "collapsed_sections": [],
      "include_colab_link": true
    },
    "kernelspec": {
      "name": "python3",
      "display_name": "Python 3"
    },
    "language_info": {
      "name": "python"
    }
  },
  "cells": [
    {
      "cell_type": "markdown",
      "metadata": {
        "id": "view-in-github",
        "colab_type": "text"
      },
      "source": [
        "<a href=\"https://colab.research.google.com/github/williamaquino12/suzanolistadedecisao/blob/main/EstruturaDeDecisao.ipynb\" target=\"_parent\"><img src=\"https://colab.research.google.com/assets/colab-badge.svg\" alt=\"Open In Colab\"/></a>"
      ]
    },
    {
      "cell_type": "markdown",
      "metadata": {
        "id": "G_OlOhEvJ36b"
      },
      "source": [
        "**Faça um Programa que peça dois números e imprima o maior deles.**"
      ]
    },
    {
      "cell_type": "code",
      "metadata": {
        "id": "362fBqdZJ9zi",
        "colab": {
          "base_uri": "https://localhost:8080/"
        },
        "outputId": "5c38e2c8-3e43-455a-9ac9-5862edcca72c"
      },
      "source": [
        "num1 = int (input('Primeiro numero:'))\n",
        "\n",
        "num2 = int (input('Segundo numero:'))\n",
        "\n",
        "if num1 > num2:\n",
        "    print(num1)\n",
        "else:\n",
        "    print(num2)"
      ],
      "execution_count": null,
      "outputs": [
        {
          "output_type": "stream",
          "name": "stdout",
          "text": [
            "Primeiro numero:23\n",
            "Segundo numero:312\n",
            "312\n"
          ]
        }
      ]
    },
    {
      "cell_type": "markdown",
      "metadata": {
        "id": "NP80SIo_J-2s"
      },
      "source": [
        "**Faça um Programa que peça um valor e mostre na tela se o valor é positivo ou negativo.**\n"
      ]
    },
    {
      "cell_type": "code",
      "metadata": {
        "id": "dcIuf2HoKCBA",
        "colab": {
          "base_uri": "https://localhost:8080/"
        },
        "outputId": "93db7b26-9c04-43c3-f12b-e96f7c939b11"
      },
      "source": [
        "numero = int(input('digite um numero: '))\n",
        "\n",
        " \n",
        "\n",
        "if numero >= 0:\n",
        "\n",
        "  print(f'O numero {numero} é positivo'.format(numero))\n",
        "\n",
        "else:\n",
        "\n",
        "  print(f'O numero {numero} é negativo'.format(numero))"
      ],
      "execution_count": null,
      "outputs": [
        {
          "output_type": "stream",
          "name": "stdout",
          "text": [
            "digite um numero: 31\n",
            "O numero 31 é positivo\n"
          ]
        }
      ]
    },
    {
      "cell_type": "markdown",
      "metadata": {
        "id": "SKKJfiz5KChN"
      },
      "source": [
        "**Faça um Programa que verifique se uma letra digitada é \"F\" ou \"M\". Conforme a letra escrever: F - Feminino, M - Masculino, Sexo Inválido.**"
      ]
    },
    {
      "cell_type": "code",
      "metadata": {
        "id": "TTKGQOexKGhm",
        "colab": {
          "base_uri": "https://localhost:8080/"
        },
        "outputId": "172bcf3f-01a7-46dc-ac6b-4368e72c7d67"
      },
      "source": [
        "sexo = str(input('Digite (F)- Feminino, (M)-Masculino: '))\n",
        "\n",
        "if sexo == 'M':\n",
        "    print('Sexo Masculino')\n",
        "\n",
        "elif sexo == 'F':\n",
        "    print('Sexo Feminino')\n",
        "else:\n",
        "    print('Sexo Invalido')"
      ],
      "execution_count": null,
      "outputs": [
        {
          "output_type": "stream",
          "name": "stdout",
          "text": [
            "Digite (F)- Feminino, (M)-Masculino: g\n",
            "Sexo Invalido\n"
          ]
        }
      ]
    },
    {
      "cell_type": "markdown",
      "metadata": {
        "id": "ZWWd3bCEKHDo"
      },
      "source": [
        "**Faça um Programa que verifique se uma letra digitada é vogal ou consoante.**\n"
      ]
    },
    {
      "cell_type": "code",
      "metadata": {
        "id": "VH92aUqxKL0u",
        "colab": {
          "base_uri": "https://localhost:8080/"
        },
        "outputId": "fec82e52-65f4-4458-8779-3f3ff9192262"
      },
      "source": [
        "alfa = input(\"Informe uma letra ou consoante:\")\n",
        "\n",
        "if alfa ==\"a\":\n",
        "    print(\"Vogal\")\n",
        "elif alfa == \"e\":\n",
        "    print(\"Vogal\")\n",
        "elif alfa == \"i\":\n",
        "    print(\"Vogal\")\n",
        "elif alfa == \"o\":\n",
        "    print(\"Vogal\")\n",
        "elif alfa == \"u\":\n",
        "    print(\"Vogal\")\n",
        "    print(\"Insira uma letra ou consoante\")\n",
        "else:\n",
        "    print(\"Consoante\")"
      ],
      "execution_count": null,
      "outputs": [
        {
          "output_type": "stream",
          "name": "stdout",
          "text": [
            "Informe uma letra ou consoante:t\n",
            "Consoante\n"
          ]
        }
      ]
    },
    {
      "cell_type": "markdown",
      "metadata": {
        "id": "-EWVLFREKOUm"
      },
      "source": [
        "**Faça um programa para a leitura de duas notas parciais de um aluno. O programa deve calcular a média alcançada por aluno e apresentar:**\n",
        "\n",
        "1. A mensagem \"Aprovado\", se a média alcançada for maior ou igual a sete;\n",
        "2. A mensagem \"Reprovado\", se a média for menor do que sete;\n",
        "3. A mensagem \"Aprovado com Distinção\", se a média for igual a dez.\n"
      ]
    },
    {
      "cell_type": "code",
      "metadata": {
        "id": "BOn_4lfHKlel",
        "colab": {
          "base_uri": "https://localhost:8080/"
        },
        "outputId": "c6254063-1b9e-4582-db65-0e8956418f86"
      },
      "source": [
        "nota1 = int(input('Digite a primeira nota:'))\n",
        "nota2 = int(input('Digite a segunda nota'))\n",
        "\n",
        "media = (nota1 + nota2)/2\n",
        "\n",
        "if media ==10:\n",
        "\n",
        "  print('Aprovado com Distinção.')\n",
        "\n",
        "elif media >=7 and media <10:\n",
        "    print('Aprovado.')\n",
        "\n",
        "else:\n",
        "  print('Reprovado.')"
      ],
      "execution_count": null,
      "outputs": [
        {
          "output_type": "stream",
          "name": "stdout",
          "text": [
            "Digite a primeira nota:7\n",
            "Digite a segunda nota8\n",
            "Aprovado.\n"
          ]
        }
      ]
    },
    {
      "cell_type": "markdown",
      "metadata": {
        "id": "uJ-YSfcqKm9L"
      },
      "source": [
        "**Faça um Programa que leia três números e mostre o maior deles.**"
      ]
    },
    {
      "cell_type": "code",
      "metadata": {
        "id": "WLor82RpKqtA",
        "colab": {
          "base_uri": "https://localhost:8080/"
        },
        "outputId": "3c8f39c0-01e1-46a9-9213-4e5302b15b6d"
      },
      "source": [
        "num1 = int(input('Digite o primeiro numero'))\n",
        "num2 = int(input('Digite o segundo numero'))\n",
        "num3 = int(input('Digite o terceiro numero'))\n",
        "\n",
        "if num1 > num2 and num3:\n",
        "  print(\"O número um é o maior: \", num1)\n",
        "elif num2 > num1 and num3:\n",
        "  print(\"O número dois é o maior: \", num2)\n",
        "elif num3 > num1 and num2:\n",
        "  print(\"O número três é o maior: \", num3)"
      ],
      "execution_count": null,
      "outputs": [
        {
          "output_type": "stream",
          "name": "stdout",
          "text": [
            "Digite o primeiro numero321\n",
            "Digite o segundo numero12\n",
            "Digite o terceiro numero1\n",
            "O número um é o maior:  321\n"
          ]
        }
      ]
    },
    {
      "cell_type": "markdown",
      "metadata": {
        "id": "S5FF994WKrQE"
      },
      "source": [
        "**Faça um Programa que leia três números e mostre o maior e o menor deles.**"
      ]
    },
    {
      "cell_type": "code",
      "metadata": {
        "id": "Ll3Xi6ztKuQz"
      },
      "source": [
        "num1 = int(input('Digite o primeiro numero'))\n",
        "num2 = int(input('Digite o segundo numero'))\n",
        "num3 = int(input('Digite o terceiro numero'))\n",
        "\n",
        "if num1 > num2 and num3:\n",
        "  print(\"O número um é o maior: \", num1)\n",
        "elif num2 > num1 and num3:\n",
        "  print(\"O número dois é o maior: \", num2)\n",
        "elif num3 > num1 and num2:\n",
        "  print(\"O número três é o maior: \", num3)"
      ],
      "execution_count": null,
      "outputs": []
    },
    {
      "cell_type": "markdown",
      "metadata": {
        "id": "bKJZhsWvKuxK"
      },
      "source": [
        "**Faça um programa que pergunte o preço de três produtos e informe qual produto você deve comprar, sabendo que a decisão é sempre pelo mais barato.**"
      ]
    },
    {
      "cell_type": "code",
      "metadata": {
        "id": "tEqrpqB4KyEk",
        "colab": {
          "base_uri": "https://localhost:8080/"
        },
        "outputId": "10cce876-f810-424f-d303-570e59586cd9"
      },
      "source": [
        "precoProduto1 = float(input(\"Digite o preço do primeiro produto: \"))\n",
        "precoProduto2 = float(input(\"Digite o preço do segundo produto: \"))\n",
        "precoProduto3 = float(input(\"Digite o preço do terceiro produto: \"))\n",
        "\n",
        "if precoProduto1 < precoProduto2:\n",
        "    if precoProduto1 < precoProduto3:\n",
        "        print(\"Você deve comprar o primeiro produto!\")\n",
        "    else:\n",
        "        print(\"Você deve comprar o terceiro produto!\")\n",
        "else:\n",
        "    if precoProduto2 < precoProduto3:\n",
        "        print(\"Você deve comprar o segundo produto!\")\n",
        "    else:\n",
        "        print(\"Você deve comprar o terceiro produto!\")"
      ],
      "execution_count": null,
      "outputs": [
        {
          "output_type": "stream",
          "name": "stdout",
          "text": [
            "Digite o preço do primeiro produto: 9\n",
            "Digite o preço do segundo produto: 8\n",
            "Digite o preço do terceiro produto: 7\n",
            "Você deve comprar o terceiro produto!\n"
          ]
        }
      ]
    },
    {
      "cell_type": "markdown",
      "metadata": {
        "id": "wnzNpHXjKykv"
      },
      "source": [
        "**Faça um Programa que leia três números e mostre-os em ordem decrescente.**"
      ]
    },
    {
      "cell_type": "code",
      "metadata": {
        "id": "BswFXISGK8hH",
        "colab": {
          "base_uri": "https://localhost:8080/"
        },
        "outputId": "167faaff-9831-4c01-f8fd-9355f631ce12"
      },
      "source": [
        "a = float(input('Digite um número: '))\n",
        "b = float(input('Digite um número: '))\n",
        "c = float(input('Digite um número: '))\n",
        "\n",
        "if a >= b and a >= c and b >= c:\n",
        "    print(f'A ordem decrescente é {a},{b}e{c}')\n",
        "elif a >= b and a >=c and c >= b:\n",
        "    print(f'A ordem decrescente é {a},{c}e{b}')\n",
        "elif b >= a and b >= c and a >= c:\n",
        "    print(f'A ordem decrescente é {b},{a}e{c}')\n",
        "elif b >= a and b >= c and c >= a:\n",
        "    print(f'A ordem decrescente é {b},{c}e{a}')\n",
        "elif c >= a and c >= b and a >=b:\n",
        "    print(f'A ordem decrescente é {c},{a}e{b}')\n",
        "elif c >= a and c >= b and b >= a:\n",
        "    print(f'A ordem decrescente é {c},{b}e{a}')"
      ],
      "execution_count": null,
      "outputs": [
        {
          "output_type": "stream",
          "name": "stdout",
          "text": [
            "Digite um número: 1\n",
            "Digite um número: 3\n",
            "Digite um número: 2\n",
            "A ordem decrescente é 3.0,2.0e1.0\n"
          ]
        }
      ]
    },
    {
      "cell_type": "markdown",
      "metadata": {
        "id": "dZgiN0p-K9Oz"
      },
      "source": [
        "**Faça um Programa que pergunte em que turno você estuda. Peça para digitar M-matutino ou V-Vespertino ou N- Noturno. Imprima a mensagem \"Bom Dia!\", \"Boa Tarde!\" ou \"Boa Noite!\" ou \"Valor Inválido!\", conforme o caso.**"
      ]
    },
    {
      "cell_type": "code",
      "metadata": {
        "id": "m53GR8H7LA29",
        "colab": {
          "base_uri": "https://localhost:8080/"
        },
        "outputId": "cdf588aa-cf5f-4ac6-f5f8-a845523223d7"
      },
      "source": [
        "turno = input(\"Digite M para Matutino ou V para Vespertino ou N para Noturno: \")\n",
        "\n",
        "if turno == 'M':\n",
        "  print('Bom Dia')\n",
        "elif turno == 'V':\n",
        "  print('Boa tarde')\n",
        "elif turno == 'N':\n",
        "  print('Boa noite')\n",
        "\n",
        "else:\n",
        "  print('Valor Inválido!')"
      ],
      "execution_count": null,
      "outputs": [
        {
          "output_type": "stream",
          "name": "stdout",
          "text": [
            "Digite M para Matutino ou V para Vespertino ou N para Noturno: V\n",
            "Boa tarde\n"
          ]
        }
      ]
    },
    {
      "cell_type": "markdown",
      "metadata": {
        "id": "X8zxnsKeLBVL"
      },
      "source": [
        "**As Organizações Tabajara resolveram dar um aumento de salário aos seus colaboradores e lhe contraram para desenvolver o programa que calculará os reajustes.**\n",
        "\n",
        "**Faça um programa que recebe o salário de um colaborador e o reajuste segundo o seguinte critério, baseado no salário atual:**\n",
        "\n",
        "1. salários até 280,00 (incluindo): aumento de 20%\n",
        "\n",
        "2. salários entre 280,00 e 700,00: aumento de 15%\n",
        "\n",
        "3. salários entre 700,00 e 1500,00: aumento de 10%\n",
        "\n",
        "4. salários de R$ 1500,00 em diante: aumento de 5% Após o aumento ser realizado, informe na tela:\n",
        "\n",
        "- salário antes do reajuste;\n",
        "- percentual de aumento aplicado;\n",
        "- valor do aumento;\n",
        "- novo salário, após o aumento.\n"
      ]
    },
    {
      "cell_type": "code",
      "metadata": {
        "id": "UifAoSNjLbL3",
        "colab": {
          "base_uri": "https://localhost:8080/"
        },
        "outputId": "2891bb31-476a-4687-de0a-0e1c81b4b597"
      },
      "source": [
        "salario = float(input('Salário do colaborador: '))\n",
        "\n",
        "if (salario <= 280):\n",
        "    percentual = 20\n",
        "elif (salario <= 700):\n",
        "    percentual = 15\n",
        "elif (salario <= 1500):\n",
        "    percentual = 10\n",
        "else:\n",
        "    percentual = 5\n",
        "\n",
        "    print('Salario original: R$ ', salario)\n",
        "    print('Percentual: ',percentual,'%')\n",
        "\n",
        "    percentual = percentual/100.0\n",
        "    aumento = percentual * salario\n",
        "    novo_salario = salario + aumento\n",
        "    \n",
        "    print('Aumento: R$ ',aumento)\n",
        "    print('Novo salário: R$ ', novo_salario)"
      ],
      "execution_count": null,
      "outputs": [
        {
          "name": "stdout",
          "output_type": "stream",
          "text": [
            "Salário do colaborador: 280\n"
          ]
        }
      ]
    },
    {
      "cell_type": "markdown",
      "metadata": {
        "id": "iP1kUENOMgsL"
      },
      "source": [
        "**Faça um programa para o cálculo de uma folha de pagamento, sabendo que os descontos são do Imposto de Renda, que depende do salário bruto (conforme tabela abaixo) e 3% para o Sindicato e que o FGTS corresponde a 11% do Salário Bruto, mas não é descontado (é a empresa que deposita). O Salário Líquido corresponde ao Salário Bruto menos os descontos. O programa deverá pedir ao usuário o valor da sua hora e a quantidade de horas trabalhadas no mês.**\n",
        "\n",
        "Desconto do IR:\n",
        "\n",
        "1. Salário Bruto até 900 (inclusive) - isento\n",
        "\n",
        "2. Salário Bruto até 1500 (inclusive) - desconto de 5%\n",
        "\n",
        "3. Salário Bruto até 2500 (inclusive) - desconto de 10%\n",
        "\n",
        "4. Salário Bruto acima de 2500 - desconto de 20% Imprima na tela as informações, dispostas conforme o exemplo abaixo. No exemplo o valor da hora é 5 e a quantidade de hora é 220.\n",
        "\n",
        "*Exemplo:*\n",
        "```\n",
        "Salário Bruto: (5 * 220)          : R$ 1100,00\n",
        "  (-) IR (5%)                     : R$   55,00  \n",
        "  (-) INSS ( 10%)                 : R$  110,00\n",
        "  FGTS (11%)                      : R$  121,00\n",
        "  Total de descontos              : R$  165,00\n",
        "  Salário Liquido                 : R$  935,00\n",
        "\n",
        "```\n",
        "\n"
      ]
    },
    {
      "cell_type": "code",
      "metadata": {
        "id": "Wq6u_3SSM4pa"
      },
      "source": [
        ""
      ],
      "execution_count": null,
      "outputs": []
    },
    {
      "cell_type": "markdown",
      "metadata": {
        "id": "64n0wAXxNiUr"
      },
      "source": [
        "**Faça um Programa que leia um número e exiba o dia correspondente da semana. (1-Domingo, 2- Segunda, etc.), se digitar outro valor deve aparecer valor inválido.**"
      ]
    },
    {
      "cell_type": "code",
      "metadata": {
        "id": "yhH7ivq6NoQW",
        "colab": {
          "base_uri": "https://localhost:8080/"
        },
        "outputId": "617227af-5437-49a7-c94c-852fb3da9569"
      },
      "source": [
        "semana = input(' 1 para domingo, 2 para segunda, 3 para terça, 4 para quarta, 5 para quinta, 6 para sexta, 7 para sabado:')\n",
        "\n",
        "if semana == 1:\n",
        "  print('domingo')\n",
        "elif semana ==2:\n",
        "  print('segunda')\n",
        "elif semana ==3:\n",
        "  print('terça')\n",
        "elif semana ==4:\n",
        "  print('quarta')\n",
        "elif semana==5:\n",
        "  print('quinta')\n",
        "elif semana==6:\n",
        "  print('sexta')\n",
        "elif semana==7:\n",
        "  print('sabado')\n",
        "else:\n",
        "  print('Valor inválido')"
      ],
      "execution_count": null,
      "outputs": [
        {
          "output_type": "stream",
          "name": "stdout",
          "text": [
            " 1 para domingo, 2 para segunda, 3 para terça, 4 para quarta, 5 para quinta, 6 para sexta, 7 para sabado:9\n",
            "Valor inválido\n"
          ]
        }
      ]
    },
    {
      "cell_type": "markdown",
      "metadata": {
        "id": "YF4LUV_GNpzj"
      },
      "source": [
        "**Faça um programa que lê as duas notas parciais obtidas por um aluno numa disciplina ao longo de um semestre, e calcule a sua média. A atribuição de conceitos obedece à tabela abaixo:**\n",
        "\n",
        "```  \n",
        "Média de Aproveitamento  Conceito\n",
        "  Entre 9.0 e 10.0        A\n",
        "  Entre 7.5 e 9.0         B\n",
        "  Entre 6.0 e 7.5         C\n",
        "  Entre 4.0 e 6.0         D\n",
        "  Entre 4.0 e zero        E\n",
        "```\n",
        "\n",
        "*O algoritmo deve mostrar na tela as notas, a média, o conceito correspondente e a mensagem “APROVADO” se o conceito for A, B ou C ou “REPROVADO” se o conceito for D ou E.*"
      ]
    },
    {
      "cell_type": "code",
      "metadata": {
        "id": "vYrbdnTHN5Wp"
      },
      "source": [
        ""
      ],
      "execution_count": null,
      "outputs": []
    },
    {
      "cell_type": "markdown",
      "metadata": {
        "id": "HOYZSQ3cN7Ge"
      },
      "source": [
        "**Faça um Programa que peça os 3 lados de um triângulo. O programa deverá informar se os valores podem ser um triângulo. Indique, caso os lados formem um triângulo, se o mesmo é: equilátero, isósceles ou escaleno.**\n",
        "\n",
        "**Dicas:**\n",
        "1. Três lados formam um triângulo quando a soma de quaisquer dois lados for maior que o terceiro;\n",
        "\n",
        "2. Triângulo Equilátero: três lados iguais;\n",
        "\n",
        "3. Triângulo Isósceles: quaisquer dois lados iguais;\n",
        "\n",
        "4. Triângulo Escaleno: três lados diferentes;"
      ]
    },
    {
      "cell_type": "code",
      "metadata": {
        "id": "akr8zFWaOIV6"
      },
      "source": [
        ""
      ],
      "execution_count": null,
      "outputs": []
    },
    {
      "cell_type": "markdown",
      "metadata": {
        "id": "7qb30_aDOXQV"
      },
      "source": [
        "**Faça um programa que calcule as raízes de uma equação do segundo grau, na forma ax2 + bx + c. O programa deverá pedir os valores de a, b e c e fazer as consistências, informando ao usuário nas seguintes situações:**\n",
        "\n",
        "1. Se o usuário informar o valor de A igual a zero, a equação não é do segundo grau e o programa não deve fazer pedir os demais valores, sendo encerrado;\n",
        "2. Se o delta calculado for negativo, a equação não possui raizes reais. Informe ao usuário e encerre o programa;\n",
        "3. Se o delta calculado for igual a zero a equação possui apenas uma raiz real; informe-a ao usuário;\n",
        "4. Se o delta for positivo, a equação possui duas raiz reais; informe-as ao usuário;\n"
      ]
    },
    {
      "cell_type": "code",
      "metadata": {
        "id": "tmqHR-FGOlHx"
      },
      "source": [
        ""
      ],
      "execution_count": null,
      "outputs": []
    },
    {
      "cell_type": "markdown",
      "metadata": {
        "id": "KnFPLrs6OK-U"
      },
      "source": [
        "**Faça um Programa que peça um número correspondente a um determinado ano e em seguida informe se este ano é ou não bissexto.**"
      ]
    },
    {
      "cell_type": "code",
      "metadata": {
        "id": "8fGApHJDOovT"
      },
      "source": [
        ""
      ],
      "execution_count": null,
      "outputs": []
    },
    {
      "cell_type": "markdown",
      "metadata": {
        "id": "n7hGQuDdOqlj"
      },
      "source": [
        "**Faça um Programa que peça uma data no formato dd/mm/aaaa e determine se a mesma é uma data válida.**\n"
      ]
    },
    {
      "cell_type": "code",
      "metadata": {
        "id": "iNgmj-yVOvFW"
      },
      "source": [
        ""
      ],
      "execution_count": null,
      "outputs": []
    },
    {
      "cell_type": "markdown",
      "metadata": {
        "id": "Wqn9Zv1dOv2x"
      },
      "source": [
        "**Faça um Programa que leia um número inteiro menor que 1000 e imprima a quantidade de centenas, dezenas e unidades do mesmo.**\n",
        "\n",
        "**Observando os termos no plural a colocação do \"e\", da vírgula entre outros.**\n",
        "\n",
        "Exemplo:\n",
        "\n",
        "\n",
        "```\n",
        "326 = 3 centenas, 2 dezenas e 6 unidades\n",
        "\n",
        "12 = 1 dezena e 2 unidades Testar com: 326, 300, 100, 320, 310,305, 301, 101, 311, 111, 25, 20, 10, 21, 11, 1, 7 e 16\n",
        "\n",
        "```\n",
        "\n",
        "\n",
        "\n"
      ]
    },
    {
      "cell_type": "code",
      "metadata": {
        "id": "LY1evJaKPKlL"
      },
      "source": [
        ""
      ],
      "execution_count": null,
      "outputs": []
    },
    {
      "cell_type": "markdown",
      "metadata": {
        "id": "UVwXqCw3PPsE"
      },
      "source": [
        ""
      ]
    }
  ]
}